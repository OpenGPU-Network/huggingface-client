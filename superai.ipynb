{
 "cells": [
  {
   "cell_type": "code",
   "execution_count": null,
   "id": "03741b55",
   "metadata": {},
   "outputs": [],
   "source": [
    "from pydantic import BaseModel\n",
    "from ogpu.client import publish_task, TaskInfo, TaskInput, ChainConfig, ChainId\n",
    "from web3 import Web3\n",
    "\n",
    "ChainConfig.set_chain(chain_id=ChainId.OGPU_MAINNET)"
   ]
  },
  {
   "cell_type": "code",
   "execution_count": null,
   "id": "e2530600",
   "metadata": {},
   "outputs": [],
   "source": [
    "class Inference(BaseModel):\n",
    "    input: str | dict\n",
    "    args : dict  = {}"
   ]
  },
  {
   "cell_type": "code",
   "execution_count": null,
   "id": "dc86f59c",
   "metadata": {},
   "outputs": [],
   "source": [
    "from typing import List, Dict, Any\n",
    "from pydantic import BaseModel\n",
    "\n",
    "class DetectionResponse(BaseModel):\n",
    "    results: List[Dict[str, Any]]\n",
    "    \n",
    "    def display_results(self):\n",
    "        \"\"\"Display detection results in a nice format\"\"\"\n",
    "        print(\"🔍 Object Detection Results\")\n",
    "        print(\"=\" * 50)\n",
    "        \n",
    "        # Sort by confidence score (highest first)\n",
    "        sorted_results = sorted(self.results, key=lambda x: x['score'], reverse=True)\n",
    "        \n",
    "        for i, result in enumerate(sorted_results, 1):\n",
    "            confidence_percent = result['score'] * 100\n",
    "            \n",
    "            # Color coding based on confidence\n",
    "            if confidence_percent >= 90:\n",
    "                confidence_emoji = \"🟢\"\n",
    "            elif confidence_percent >= 70:\n",
    "                confidence_emoji = \"🟡\"\n",
    "            else:\n",
    "                confidence_emoji = \"🔴\"\n",
    "                \n",
    "            print(f\"\\n{i}. {confidence_emoji} {result['label'].upper()}\")\n",
    "            print(f\"   Confidence: {confidence_percent:.1f}%\")\n",
    "            box = result['box']\n",
    "            print(f\"   Bounding Box: ({box['xmin']}, {box['ymin']}) → ({box['xmax']}, {box['ymax']})\")"
   ]
  },
  {
   "cell_type": "code",
   "execution_count": null,
   "id": "257c7526",
   "metadata": {},
   "outputs": [],
   "source": [
    "inference_data = Inference(\n",
    "    input= \"https://lh7-us.googleusercontent.com/GNVsVvVmCDLtFtqburTWaTQOjXn3N0wLBKXt6BhXO2GG037S9o7xZ7HyPjFcJoWgds1PFKvbHgCCEWTqiB-MR0VFIo7UC7jVEX6t10LD6zPg61YoEAR-NGbA2RJj7dVdYwMH2nsOJY648uXmMlpNiZw\",\n",
    "    args= {\n",
    "        \"threshold\": 0.5  # minimum confidence score\n",
    "    }\n",
    ")\n",
    "\n",
    "task_input = TaskInput(\n",
    "    function_name=\"inference\",\n",
    "    data = inference_data\n",
    ")"
   ]
  },
  {
   "cell_type": "code",
   "execution_count": null,
   "id": "ec11ee83",
   "metadata": {},
   "outputs": [],
   "source": [
    "task_info = TaskInfo(\n",
    "    source=\"0xaddy\",\n",
    "    config=task_input,\n",
    "    expiryTime=86400,  # 24 hour in seconds\n",
    "    payment=Web3.to_wei(0.001, \"ether\"),\n",
    ")\n",
    "\n",
    "task_address = publish_task(task_info)\n",
    "print(f\"Task published at address: {task_address}\")"
   ]
  },
  {
   "cell_type": "code",
   "execution_count": null,
   "id": "50ef3cc6",
   "metadata": {},
   "outputs": [],
   "source": [
    "from ogpu.client import get_task_responses\n",
    "responses = get_task_responses(task_address)\n"
   ]
  },
  {
   "cell_type": "code",
   "execution_count": null,
   "id": "4a54fca0",
   "metadata": {},
   "outputs": [],
   "source": [
    "# detection_response = DetectionResponse(results=output)\n",
    "# detection_response.display_results()"
   ]
  }
 ],
 "metadata": {
  "kernelspec": {
   "display_name": "huggingface-client",
   "language": "python",
   "name": "python3"
  },
  "language_info": {
   "codemirror_mode": {
    "name": "ipython",
    "version": 3
   },
   "file_extension": ".py",
   "mimetype": "text/x-python",
   "name": "python",
   "nbconvert_exporter": "python",
   "pygments_lexer": "ipython3",
   "version": "3.13.3"
  }
 },
 "nbformat": 4,
 "nbformat_minor": 5
}
