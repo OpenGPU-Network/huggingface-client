{
 "cells": [
  {
   "cell_type": "code",
   "execution_count": null,
   "id": "03741b55",
   "metadata": {},
   "outputs": [],
   "source": [
    "from pydantic import BaseModel\n",
    "from typing import List, Dict, Any\n",
    "from ogpu.client import publish_task, TaskInfo, TaskInput, ChainConfig, ChainId\n",
    "from web3 import Web3\n",
    "\n",
    "ChainConfig.set_chain(chain_id=ChainId.OGPU_MAINNET)"
   ]
  },
  {
   "cell_type": "code",
   "execution_count": null,
   "id": "e2530600",
   "metadata": {},
   "outputs": [],
   "source": [
    "class Inference(BaseModel):\n",
    "    input: str | dict\n",
    "    args : dict  = {}"
   ]
  },
  {
   "cell_type": "code",
   "execution_count": null,
   "id": "dc86f59c",
   "metadata": {},
   "outputs": [],
   "source": [
    "class DetectionOutput(BaseModel):\n",
    "    output: List[Dict[str, Any]]\n",
    "    \n",
    "    class Config:\n",
    "        # This allows custom __str__ and __repr__ to work with Pydantic\n",
    "        arbitrary_types_allowed = True\n",
    "    \n",
    "    def display_output(self):\n",
    "        \"\"\"Display detection results in a nice format\"\"\"\n",
    "        print(\"🔍 Object Detection Results\")\n",
    "        print(\"=\" * 50)\n",
    "        \n",
    "        print(f\"Detected {len(self.output)} objects:\")\n",
    "        # Sort by confidence score (highest first)\n",
    "        sorted_output = sorted(self.output, key=lambda x: x['score'], reverse=True)\n",
    "        \n",
    "        for i, result in enumerate(sorted_output, 1):\n",
    "            confidence_percent = result['score'] * 100\n",
    "            \n",
    "            # Color coding based on confidence\n",
    "            if confidence_percent >= 90:\n",
    "                confidence_emoji = \"🟢\"\n",
    "            elif confidence_percent >= 70:\n",
    "                confidence_emoji = \"🟡\"\n",
    "            else:\n",
    "                confidence_emoji = \"🔴\"\n",
    "                \n",
    "            print(f\"\\n{i}. {confidence_emoji} {result['label'].upper()}\")\n",
    "            print(f\"   Confidence: {confidence_percent:.1f}%\")\n",
    "            box = result['box']\n",
    "            print(f\"   Bounding Box: ({box['xmin']}, {box['ymin']}) → ({box['xmax']}, {box['ymax']})\")\n",
    "\n",
    "    def __str__(self):\n",
    "        \"\"\"Custom string representation for print()\"\"\"\n",
    "        return self._format_results()\n",
    "    \n",
    "    def __repr__(self):\n",
    "        \"\"\"Custom representation for Jupyter notebook display\"\"\"\n",
    "        return self._format_results()\n",
    "    \n",
    "    def _format_results(self):\n",
    "        \"\"\"Helper method to format results consistently\"\"\"\n",
    "        result_lines = []\n",
    "        result_lines.append(\"🔍 Object Detection Results\")\n",
    "        result_lines.append(\"=\" * 50)\n",
    "        \n",
    "        result_lines.append(f\"Detected {len(self.output)} objects:\")\n",
    "        # Sort by confidence score (highest first)\n",
    "        sorted_output = sorted(self.output, key=lambda x: x['score'], reverse=True)\n",
    "        \n",
    "        for i, result in enumerate(sorted_output, 1):\n",
    "            confidence_percent = result['score'] * 100\n",
    "            \n",
    "            # Color coding based on confidence\n",
    "            if confidence_percent >= 90:\n",
    "                confidence_emoji = \"🟢\"\n",
    "            elif confidence_percent >= 70:\n",
    "                confidence_emoji = \"🟡\"\n",
    "            else:\n",
    "                confidence_emoji = \"🔴\"\n",
    "                \n",
    "            result_lines.append(f\"\\n{i}. {confidence_emoji} {result['label'].upper()}\")\n",
    "            result_lines.append(f\"   Confidence: {confidence_percent:.1f}%\")\n",
    "            box = result['box']\n",
    "            result_lines.append(f\"   Bounding Box: ({box['xmin']}, {box['ymin']}) → ({box['xmax']}, {box['ymax']})\")\n",
    "        \n",
    "        return \"\\n\".join(result_lines)\n",
    "    \n",
    "    def _repr_pretty_(self, p, cycle):\n",
    "        \"\"\"For IPython/Jupyter pretty printing\"\"\"\n",
    "        p.text(self._format_results())"
   ]
  },
  {
   "cell_type": "code",
   "execution_count": null,
   "id": "257c7526",
   "metadata": {},
   "outputs": [],
   "source": [
    "inference_data = Inference(\n",
    "    input= \"https://lh7-us.googleusercontent.com/GNVsVvVmCDLtFtqburTWaTQOjXn3N0wLBKXt6BhXO2GG037S9o7xZ7HyPjFcJoWgds1PFKvbHgCCEWTqiB-MR0VFIo7UC7jVEX6t10LD6zPg61YoEAR-NGbA2RJj7dVdYwMH2nsOJY648uXmMlpNiZw\",\n",
    "    args= {\n",
    "        \"threshold\": 0.5  # minimum confidence score\n",
    "    }\n",
    ")\n",
    "\n",
    "task_input = TaskInput(\n",
    "    function_name=\"inference\",\n",
    "    data = inference_data\n",
    ")"
   ]
  },
  {
   "cell_type": "code",
   "execution_count": null,
   "id": "ec11ee83",
   "metadata": {},
   "outputs": [],
   "source": [
    "task_info = TaskInfo(\n",
    "    source=\"0xaddy\",\n",
    "    config=task_input,\n",
    "    expiryTime=86400,  # 24 hour in seconds\n",
    "    payment=Web3.to_wei(0.001, \"ether\"),\n",
    ")\n",
    "\n",
    "task_address = publish_task(task_info)\n",
    "print(f\"Task published at address: {task_address}\")"
   ]
  },
  {
   "cell_type": "code",
   "execution_count": null,
   "id": "2cb7b723",
   "metadata": {},
   "outputs": [],
   "source": [
    "from ogpu.client import get_confirmed_response\n",
    "\n",
    "response = get_confirmed_response(task_address)\n",
    "\n",
    "# Recreate with updated class\n",
    "det_res = DetectionOutput(output=response.data[\"result\"]['output'])\n",
    "det_res"
   ]
  },
  {
   "cell_type": "code",
   "execution_count": null,
   "id": "c1bbf40a",
   "metadata": {},
   "outputs": [],
   "source": []
  }
 ],
 "metadata": {
  "kernelspec": {
   "display_name": "huggingface-client",
   "language": "python",
   "name": "python3"
  },
  "language_info": {
   "codemirror_mode": {
    "name": "ipython",
    "version": 3
   },
   "file_extension": ".py",
   "mimetype": "text/x-python",
   "name": "python",
   "nbconvert_exporter": "python",
   "pygments_lexer": "ipython3",
   "version": "3.13.3"
  }
 },
 "nbformat": 4,
 "nbformat_minor": 5
}
