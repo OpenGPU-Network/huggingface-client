{
 "cells": [
  {
   "cell_type": "code",
   "execution_count": 1,
   "id": "4c89358f",
   "metadata": {},
   "outputs": [
    {
     "name": "stderr",
     "output_type": "stream",
     "text": [
      "/Users/kutay-gpu/.pyenv/versions/huggingface-client/lib/python3.13/site-packages/tqdm/auto.py:21: TqdmWarning: IProgress not found. Please update jupyter and ipywidgets. See https://ipywidgets.readthedocs.io/en/stable/user_install.html\n",
      "  from .autonotebook import tqdm as notebook_tqdm\n"
     ]
    }
   ],
   "source": [
    "from transformers import pipeline\n",
    "import warnings\n",
    "import os\n",
    "warnings.simplefilter(\"ignore\", category=FutureWarning)\n",
    "os.environ[\"HF_HOME\"] = \"./HF_CACHE\""
   ]
  },
  {
   "cell_type": "code",
   "execution_count": 18,
   "id": "3257f2a2",
   "metadata": {},
   "outputs": [],
   "source": [
    "pipe_args = {\n",
    "    \"task\": \"object-detection\",\n",
    "    \"model\": \"hustvl/yolos-tiny\"\n",
    "}\n",
    "\n",
    "inference_config = {\n",
    "    \"input\": \"https://lh7-us.googleusercontent.com/GNVsVvVmCDLtFtqburTWaTQOjXn3N0wLBKXt6BhXO2GG037S9o7xZ7HyPjFcJoWgds1PFKvbHgCCEWTqiB-MR0VFIo7UC7jVEX6t10LD6zPg61YoEAR-NGbA2RJj7dVdYwMH2nsOJY648uXmMlpNiZw\",\n",
    "    \"args\": {\n",
    "        \"threshold\": 0.5  # minimum confidence score\n",
    "    }\n",
    "}"
   ]
  },
  {
   "cell_type": "code",
   "execution_count": 19,
   "id": "02ec6e82",
   "metadata": {},
   "outputs": [
    {
     "name": "stderr",
     "output_type": "stream",
     "text": [
      "Device set to use mps:0\n"
     ]
    },
    {
     "name": "stdout",
     "output_type": "stream",
     "text": [
      "[{'score': 0.5644752383232117, 'label': 'truck', 'box': {'xmin': 702, 'ymin': 63, 'xmax': 1007, 'ymax': 198}}, {'score': 0.9994232654571533, 'label': 'dog', 'box': {'xmin': 129, 'ymin': 288, 'xmax': 444, 'ymax': 840}}, {'score': 0.9868428111076355, 'label': 'bicycle', 'box': {'xmin': 110, 'ymin': 152, 'xmax': 882, 'ymax': 623}}, {'score': 0.959194004535675, 'label': 'car', 'box': {'xmin': 697, 'ymin': 63, 'xmax': 1007, 'ymax': 210}}]\n"
     ]
    }
   ],
   "source": [
    "# Load the pipeline\n",
    "pipe = pipeline(**pipe_args)\n",
    "\n",
    "# Run inference\n",
    "output = pipe(\n",
    "    inference_config[\"input\"],\n",
    "    **inference_config[\"args\"]\n",
    ")\n",
    "# Print the output\n",
    "print(output)"
   ]
  },
  {
   "cell_type": "code",
   "execution_count": 23,
   "id": "da748426",
   "metadata": {},
   "outputs": [],
   "source": [
    "from typing import List, Dict, Any\n",
    "from pydantic import BaseModel\n",
    "\n",
    "class DetectionResponse(BaseModel):\n",
    "    results: List[Dict[str, Any]]\n",
    "    \n",
    "    def display_results(self):\n",
    "        \"\"\"Display detection results in a nice format\"\"\"\n",
    "        print(\"🔍 Object Detection Results\")\n",
    "        print(\"=\" * 50)\n",
    "        \n",
    "        # Sort by confidence score (highest first)\n",
    "        sorted_results = sorted(self.results, key=lambda x: x['score'], reverse=True)\n",
    "        \n",
    "        for i, result in enumerate(sorted_results, 1):\n",
    "            confidence_percent = result['score'] * 100\n",
    "            \n",
    "            # Color coding based on confidence\n",
    "            if confidence_percent >= 90:\n",
    "                confidence_emoji = \"🟢\"\n",
    "            elif confidence_percent >= 70:\n",
    "                confidence_emoji = \"🟡\"\n",
    "            else:\n",
    "                confidence_emoji = \"🔴\"\n",
    "                \n",
    "            print(f\"\\n{i}. {confidence_emoji} {result['label'].upper()}\")\n",
    "            print(f\"   Confidence: {confidence_percent:.1f}%\")\n",
    "            box = result['box']\n",
    "            print(f\"   Bounding Box: ({box['xmin']}, {box['ymin']}) → ({box['xmax']}, {box['ymax']})\")\n",
    "            \n",
    "            # Calculate box dimensions\n",
    "            width = box['xmax'] - box['xmin']\n",
    "            height = box['ymax'] - box['ymin']\n",
    "            print(f\"   Dimensions: {width}x{height} pixels\")\n",
    "    "
   ]
  },
  {
   "cell_type": "code",
   "execution_count": null,
   "id": "896f4a10",
   "metadata": {},
   "outputs": [
    {
     "name": "stdout",
     "output_type": "stream",
     "text": [
      "🔍 Object Detection Results\n",
      "==================================================\n",
      "\n",
      "1. 🟢 DOG\n",
      "   Confidence: 99.9%\n",
      "   Bounding Box: (129, 288) → (444, 840)\n",
      "   Dimensions: 315x552 pixels\n",
      "\n",
      "2. 🟢 BICYCLE\n",
      "   Confidence: 98.7%\n",
      "   Bounding Box: (110, 152) → (882, 623)\n",
      "   Dimensions: 772x471 pixels\n",
      "\n",
      "3. 🟢 CAR\n",
      "   Confidence: 95.9%\n",
      "   Bounding Box: (697, 63) → (1007, 210)\n",
      "   Dimensions: 310x147 pixels\n",
      "\n",
      "4. 🔴 TRUCK\n",
      "   Confidence: 56.4%\n",
      "   Bounding Box: (702, 63) → (1007, 198)\n",
      "   Dimensions: 305x135 pixels\n"
     ]
    }
   ],
   "source": [
    "# Direkt output'u kullan, dönüştürmeye gerek yok!\n",
    "detection_response = DetectionResponse(results=output)\n",
    "detection_response.display_results()"
   ]
  },
  {
   "cell_type": "code",
   "execution_count": null,
   "id": "e047e87f",
   "metadata": {},
   "outputs": [],
   "source": []
  }
 ],
 "metadata": {
  "kernelspec": {
   "display_name": "huggingface-client",
   "language": "python",
   "name": "python3"
  },
  "language_info": {
   "codemirror_mode": {
    "name": "ipython",
    "version": 3
   },
   "file_extension": ".py",
   "mimetype": "text/x-python",
   "name": "python",
   "nbconvert_exporter": "python",
   "pygments_lexer": "ipython3",
   "version": "3.13.3"
  }
 },
 "nbformat": 4,
 "nbformat_minor": 5
}
